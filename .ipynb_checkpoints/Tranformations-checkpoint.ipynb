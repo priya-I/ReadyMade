{
 "metadata": {
  "name": ""
 },
 "nbformat": 3,
 "nbformat_minor": 0,
 "worksheets": [
  {
   "cells": [
    {
     "cell_type": "code",
     "collapsed": false,
     "input": [
      "import csv\n",
      "import json\n",
      "import re,os\n",
      "import pandas as pd\n",
      "\n",
      "def transform(csvfilename,folder):\n",
      "\tpattern='([a-zA-Z0-9_]+?)\\.'\n",
      "\tprint csvfilename\n",
      "\tcsvfile = open(csvfilename, 'rU')\n",
      "\tfilename=re.findall(pattern,csvfilename)[0]\n",
      "\tfilepath=os.path.join(folder, filename)\n",
      "\tjsonfile = open(filepath+\".json\", 'w')\n",
      "\tr=csv.reader(csvfile,delimiter=' ')\n",
      "\tfieldnames=r.next()\n",
      "\tprint fieldnames\n",
      "\tfieldnames=[f.replace(' ','_') for f in fieldnames]\n",
      "\tfieldnames=tuple(fieldnames)\n",
      "\treader = csv.DictReader(csvfile, fieldnames)\n",
      "\tjsonfile.write(\"jsondat=[\")\n",
      "\tfor row in reader:\n",
      "\t    json.dump(row, jsonfile)\n",
      "\t    jsonfile.write(',\\n')\n",
      "\tjsonfile.write(\"]\")\n",
      "\n",
      "def test(csvfilename):\n",
      "\tpattern='([a-zA-Z0-9_]+?)\\.'\n",
      "\tprint csvfilename\n",
      "\tcsvfile=pd.read_csv(csvfilename)\n",
      "\tprint csvfile\n",
      "\n",
      "\n"
     ],
     "language": "python",
     "metadata": {},
     "outputs": []
    },
    {
     "cell_type": "code",
     "collapsed": false,
     "input": [
      "import csv\n",
      "import json\n",
      "import re,os\n",
      "import pandas as pd\n",
      "\n",
      "def test(csvfilename):\n",
      "\tpattern='([a-zA-Z0-9_]+?)\\.'\n",
      "\tprint csvfilename\n",
      "\tcsvfile=pd.read_csv(csvfilename)\n",
      "\tprint csvfile\n"
     ],
     "language": "python",
     "metadata": {},
     "outputs": [],
     "prompt_number": 1
    },
    {
     "cell_type": "code",
     "collapsed": false,
     "input": [
      "csvfilename='./static/files/uploads/coffeedat.csv'\n",
      "pattern='([a-zA-Z0-9_]+?)\\.'\n",
      "csvf=pd.read_csv(csvfilename)\n",
      "print csvf"
     ],
     "language": "python",
     "metadata": {},
     "outputs": [
      {
       "output_type": "stream",
       "stream": "stdout",
       "text": [
        "<class 'pandas.core.frame.DataFrame'>\n",
        "Int64Index: 104 entries, 0 to 103\n",
        "Data columns (total 37 columns):\n",
        "New Loan? (Y=1, N=0)                                                     104  non-null values\n",
        "Year of Data                                                             104  non-null values\n",
        "Country                                                                  104  non-null values\n",
        "Type of Organization                                                     104  non-null values\n",
        "Year founded                                                             104  non-null values\n",
        "Product financed by Root Capital                                         104  non-null values\n",
        "Number of suppliers                                                      99  non-null values\n",
        "Number of suppliers (with 5,000 member cap)                              103  non-null values\n",
        "Country daily minimum wage                                               103  non-null values\n",
        "Total revenue (US$)                                                      103  non-null values\n",
        "Total revenue (US$) - adjusted                                           99  non-null values\n",
        "Volume of sales (lbs)                                                    97  non-null values\n",
        "Fixed assets (property, plant & eqpmt (PPE)) (US$)                       101  non-null values\n",
        "Total assets (US$)                                                       101  non-null values\n",
        "Total equity (US$)                                                       101  non-null values\n",
        "Total sales of product financed (US$)                                    99  non-null values\n",
        "Export sales for product financed (US$)                                  96  non-null values\n",
        "Export volume for product financed (lbs)                                 95  non-null values\n",
        "% Export sales sold as certified Fairtrade                               97  non-null values\n",
        "Amount of RC working capital loan (US$) approved                         103  non-null values\n",
        "Amount of RC working capital loan (US$) disbursed                        104  non-null values\n",
        "Total working capital debt (US$)                                         101  non-null values\n",
        "Financing from commercial banks? (Y/N)                                   100  non-null values\n",
        "Purchases from rural producers (US$)                                     100  non-null values\n",
        "Purchases from rural producers (US$) - adjusted                          101  non-null values\n",
        "Volume purchased from rural producers (lb)                               74  non-null values\n",
        "Average local price per pound at farmgate  (US$)                         67  non-null values\n",
        "Average price per pound paid by enterprise to rural producers (US$)      73  non-null values\n",
        "Fair Trade certification? (Y/N)                                          102  non-null values\n",
        "Utz Kapeh certification? (Y/N)                                           101  non-null values\n",
        "Total acreage under cultivation (1 hectare = 2.4711 acres) - adjusted    101  non-null values\n",
        "Total acreage under organic cultivation                                  95  non-null values\n",
        "Total number of farmers certified organic                                91  non-null values\n",
        "Total carbon sequestered (lbs)                                           100  non-null values\n",
        "Purchases/Suppliers                                                      97  non-null values\n",
        "Acreage/Suppliers                                                        98  non-null values\n",
        "price/farmgate price                                                     56  non-null values\n",
        "dtypes: float64(31), int64(5), object(1)\n"
       ]
      }
     ],
     "prompt_number": 2
    },
    {
     "cell_type": "code",
     "collapsed": false,
     "input": [
      "csvf.set_index(csvf.columns[3],inplace=True)"
     ],
     "language": "python",
     "metadata": {},
     "outputs": [],
     "prompt_number": 99
    },
    {
     "cell_type": "code",
     "collapsed": false,
     "input": [
      "csvf[csvf.columns[0]]"
     ],
     "language": "python",
     "metadata": {},
     "outputs": [
      {
       "metadata": {},
       "output_type": "pyout",
       "prompt_number": 91,
       "text": [
        "0     0\n",
        "1     0\n",
        "2     0\n",
        "3     0\n",
        "4     0\n",
        "5     0\n",
        "6     0\n",
        "7     0\n",
        "8     0\n",
        "9     0\n",
        "10    0\n",
        "11    0\n",
        "12    0\n",
        "13    0\n",
        "14    1\n",
        "...\n",
        "89     0\n",
        "90     1\n",
        "91     1\n",
        "92     0\n",
        "93     0\n",
        "94     1\n",
        "95     0\n",
        "96     0\n",
        "97     0\n",
        "98     1\n",
        "99     0\n",
        "100    0\n",
        "101    0\n",
        "102    0\n",
        "103    0\n",
        "Name: New Loan? (Y=1, N=0), Length: 104, dtype: int64"
       ]
      }
     ],
     "prompt_number": 91
    },
    {
     "cell_type": "code",
     "collapsed": false,
     "input": [
      "from matplotlib import pyplot as plt\n",
      "import numpy as np\n",
      "x=csvf['female.edu.sum'].replace('nan',0)\n",
      "y=csvf['n'].replace('nan',0)\n",
      "np.corrcoef(x,y)\n",
      "plt.scatter(x,y)\n",
      "plt.show()"
     ],
     "language": "python",
     "metadata": {},
     "outputs": [],
     "prompt_number": 74
    },
    {
     "cell_type": "code",
     "collapsed": false,
     "input": [
      "w=csvf[csvf.columns[7]].replace('nan',0)\n",
      "v=csvf[csvf.columns[8]].replace('nan',0)\n",
      "print np.corrcoef(w,v)\n",
      "plt.scatter(w,v)\n",
      "plt.show()"
     ],
     "language": "python",
     "metadata": {},
     "outputs": [
      {
       "output_type": "stream",
       "stream": "stdout",
       "text": [
        "[[ 1.         -0.26587212]\n",
        " [-0.26587212  1.        ]]\n"
       ]
      }
     ],
     "prompt_number": 96
    },
    {
     "cell_type": "code",
     "collapsed": false,
     "input": [
      "import numpy as np\n",
      "import statsmodels.api as sm\n",
      "import matplotlib.pyplot as plt\n",
      "from statsmodels.sandbox.regression.predstd import wls_prediction_std\n",
      "\n",
      "x=csvf['Total revenue (US$) - adjusted'].replace('nan',0)\n",
      "y=csvf['Amount of RC working capital loan (US$) disbursed'].replace('nan',0)\n",
      "model = sm.OLS(y, x)\n",
      "results = model.fit()\n",
      "print results.summary()"
     ],
     "language": "python",
     "metadata": {},
     "outputs": []
    }
   ],
   "metadata": {}
  }
 ]
}