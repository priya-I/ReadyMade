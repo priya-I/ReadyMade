{
 "metadata": {
  "name": ""
 },
 "nbformat": 3,
 "nbformat_minor": 0,
 "worksheets": [
  {
   "cells": [
    {
     "cell_type": "code",
     "collapsed": false,
     "input": [
      "import csv\n",
      "import json\n",
      "import re,os\n",
      "import pandas as pd\n",
      "\n",
      "def transform(csvfilename,folder):\n",
      "\tpattern='([a-zA-Z0-9_]+?)\\.'\n",
      "\tprint csvfilename\n",
      "\tcsvfile = open(csvfilename, 'rU')\n",
      "\tfilename=re.findall(pattern,csvfilename)[0]\n",
      "\tfilepath=os.path.join(folder, filename)\n",
      "\tjsonfile = open(filepath+\".json\", 'w')\n",
      "\tr=csv.reader(csvfile,delimiter=' ')\n",
      "\tfieldnames=r.next()\n",
      "\tprint fieldnames\n",
      "\tfieldnames=[f.replace(' ','_') for f in fieldnames]\n",
      "\tfieldnames=tuple(fieldnames)\n",
      "\treader = csv.DictReader(csvfile, fieldnames)\n",
      "\tjsonfile.write(\"jsondat=[\")\n",
      "\tfor row in reader:\n",
      "\t    json.dump(row, jsonfile)\n",
      "\t    jsonfile.write(',\\n')\n",
      "\tjsonfile.write(\"]\")\n",
      "\n",
      "def test(csvfilename):\n",
      "\tpattern='([a-zA-Z0-9_]+?)\\.'\n",
      "\tprint csvfilename\n",
      "\tcsvfile=pd.read_csv(csvfilename)\n",
      "\tprint csvfile\n",
      "\n",
      "\n"
     ],
     "language": "python",
     "metadata": {},
     "outputs": []
    },
    {
     "cell_type": "code",
     "collapsed": false,
     "input": [
      "import csv\n",
      "import json\n",
      "import re,os\n",
      "import pandas as pd\n",
      "\n",
      "def test(csvfilename):\n",
      "\tpattern='([a-zA-Z0-9_]+?)\\.'\n",
      "\tprint csvfilename\n",
      "\tcsvfile=pd.read_csv(csvfilename)\n",
      "\tprint csvfile\n"
     ],
     "language": "python",
     "metadata": {},
     "outputs": [],
     "prompt_number": 1
    },
    {
     "cell_type": "code",
     "collapsed": false,
     "input": [
      "csvfilename='./static/files/uploads/coffeedat.csv'\n",
      "pattern='([a-zA-Z0-9_]+?)\\.'\n",
      "csvf=pd.read_csv(csvfilename)\n",
      "print csvf"
     ],
     "language": "python",
     "metadata": {},
     "outputs": [
      {
       "output_type": "stream",
       "stream": "stdout",
       "text": [
        "<class 'pandas.core.frame.DataFrame'>\n",
        "Int64Index: 104 entries, 0 to 103\n",
        "Data columns (total 37 columns):\n",
        "New Loan? (Y=1, N=0)                                                     104  non-null values\n",
        "Year of Data                                                             104  non-null values\n",
        "Country                                                                  104  non-null values\n",
        "Type of Organization                                                     104  non-null values\n",
        "Year founded                                                             104  non-null values\n",
        "Product financed by Root Capital                                         104  non-null values\n",
        "Number of suppliers                                                      99  non-null values\n",
        "Number of suppliers (with 5,000 member cap)                              103  non-null values\n",
        "Country daily minimum wage                                               103  non-null values\n",
        "Total revenue (US$)                                                      103  non-null values\n",
        "Total revenue (US$) - adjusted                                           99  non-null values\n",
        "Volume of sales (lbs)                                                    97  non-null values\n",
        "Fixed assets (property, plant & eqpmt (PPE)) (US$)                       101  non-null values\n",
        "Total assets (US$)                                                       101  non-null values\n",
        "Total equity (US$)                                                       101  non-null values\n",
        "Total sales of product financed (US$)                                    99  non-null values\n",
        "Export sales for product financed (US$)                                  96  non-null values\n",
        "Export volume for product financed (lbs)                                 95  non-null values\n",
        "% Export sales sold as certified Fairtrade                               97  non-null values\n",
        "Amount of RC working capital loan (US$) approved                         103  non-null values\n",
        "Amount of RC working capital loan (US$) disbursed                        104  non-null values\n",
        "Total working capital debt (US$)                                         101  non-null values\n",
        "Financing from commercial banks? (Y/N)                                   100  non-null values\n",
        "Purchases from rural producers (US$)                                     100  non-null values\n",
        "Purchases from rural producers (US$) - adjusted                          101  non-null values\n",
        "Volume purchased from rural producers (lb)                               74  non-null values\n",
        "Average local price per pound at farmgate  (US$)                         67  non-null values\n",
        "Average price per pound paid by enterprise to rural producers (US$)      73  non-null values\n",
        "Fair Trade certification? (Y/N)                                          102  non-null values\n",
        "Utz Kapeh certification? (Y/N)                                           101  non-null values\n",
        "Total acreage under cultivation (1 hectare = 2.4711 acres) - adjusted    101  non-null values\n",
        "Total acreage under organic cultivation                                  95  non-null values\n",
        "Total number of farmers certified organic                                91  non-null values\n",
        "Total carbon sequestered (lbs)                                           100  non-null values\n",
        "Purchases/Suppliers                                                      97  non-null values\n",
        "Acreage/Suppliers                                                        98  non-null values\n",
        "price/farmgate price                                                     56  non-null values\n",
        "dtypes: float64(31), int64(5), object(1)\n"
       ]
      }
     ],
     "prompt_number": 2
    },
    {
     "cell_type": "code",
     "collapsed": false,
     "input": [
      "csvf.set_index(csvf.columns[3],inplace=True)"
     ],
     "language": "python",
     "metadata": {},
     "outputs": [],
     "prompt_number": 99
    },
    {
     "cell_type": "code",
     "collapsed": false,
     "input": [
      "csvf[csvf.columns[0]]"
     ],
     "language": "python",
     "metadata": {},
     "outputs": [
      {
       "metadata": {},
       "output_type": "pyout",
       "prompt_number": 91,
       "text": [
        "0     0\n",
        "1     0\n",
        "2     0\n",
        "3     0\n",
        "4     0\n",
        "5     0\n",
        "6     0\n",
        "7     0\n",
        "8     0\n",
        "9     0\n",
        "10    0\n",
        "11    0\n",
        "12    0\n",
        "13    0\n",
        "14    1\n",
        "...\n",
        "89     0\n",
        "90     1\n",
        "91     1\n",
        "92     0\n",
        "93     0\n",
        "94     1\n",
        "95     0\n",
        "96     0\n",
        "97     0\n",
        "98     1\n",
        "99     0\n",
        "100    0\n",
        "101    0\n",
        "102    0\n",
        "103    0\n",
        "Name: New Loan? (Y=1, N=0), Length: 104, dtype: int64"
       ]
      }
     ],
     "prompt_number": 91
    },
    {
     "cell_type": "code",
     "collapsed": false,
     "input": [
      "from matplotlib import pyplot as plt\n",
      "import numpy as np\n",
      "x=csvf['female.edu.sum'].replace('nan',0)\n",
      "y=csvf['n'].replace('nan',0)\n",
      "np.corrcoef(x,y)\n",
      "plt.scatter(x,y)\n",
      "plt.show()"
     ],
     "language": "python",
     "metadata": {},
     "outputs": [],
     "prompt_number": 74
    },
    {
     "cell_type": "code",
     "collapsed": false,
     "input": [
      "w=csvf[csvf.columns[7]].replace('nan',0)\n",
      "v=csvf[csvf.columns[8]].replace('nan',0)\n",
      "print np.corrcoef(w,v)\n",
      "plt.scatter(w,v)\n",
      "plt.show()"
     ],
     "language": "python",
     "metadata": {},
     "outputs": [
      {
       "output_type": "stream",
       "stream": "stdout",
       "text": [
        "[[ 1.         -0.26587212]\n",
        " [-0.26587212  1.        ]]\n"
       ]
      }
     ],
     "prompt_number": 96
    },
    {
     "cell_type": "code",
     "collapsed": false,
     "input": [
      "import numpy as np\n",
      "import pandas as pd\n",
      "\n",
      "x1=csvf['Total revenue (US$) - adjusted'].replace('nan',0)\n",
      "x2=csvf['Export volume for product financed (lbs)'].replace('nan',0)\n",
      "x3=csvf['Total working capital debt (US$)'].replace('nan',0)\n",
      "y=csvf['Amount of RC working capital loan (US$) disbursed'].replace('nan',0)\n",
      "X=pd.DataFrame({'A':x1,'B':x2,'C':x3})\n",
      "model=pd.ols(y=y,x=X)\n",
      "print model"
     ],
     "language": "python",
     "metadata": {},
     "outputs": [
      {
       "output_type": "stream",
       "stream": "stdout",
       "text": [
        "\n",
        "-------------------------Summary of Regression Analysis-------------------------\n",
        "\n",
        "Formula: Y ~ <A> + <B> + <C> + <intercept>\n",
        "\n",
        "Number of Observations:         104\n",
        "Number of Degrees of Freedom:   4\n",
        "\n",
        "R-squared:         0.4275\n",
        "Adj R-squared:     0.4103\n",
        "\n",
        "Rmse:          359659.9429\n",
        "\n",
        "F-stat (3, 100):    24.8884, p-value:     0.0000\n",
        "\n",
        "Degrees of Freedom: model 3, resid 100\n",
        "\n",
        "-----------------------Summary of Estimated Coefficients------------------------\n",
        "      Variable       Coef    Std Err     t-stat    p-value    CI 2.5%   CI 97.5%\n",
        "--------------------------------------------------------------------------------\n",
        "             A     0.0601     0.0215       2.79     0.0063     0.0179     0.1023\n",
        "             B    -0.0677     0.0250      -2.71     0.0079    -0.1168    -0.0187\n",
        "             C     0.1477     0.0357       4.14     0.0001     0.0778     0.2176\n",
        "     intercept 214477.0189 43334.6676       4.95     0.0000 129541.0705 299412.9673\n",
        "---------------------------------End of Summary---------------------------------\n",
        "\n"
       ]
      }
     ],
     "prompt_number": 8
    },
    {
     "cell_type": "code",
     "collapsed": false,
     "input": [
      "type(model)"
     ],
     "language": "python",
     "metadata": {},
     "outputs": [
      {
       "metadata": {},
       "output_type": "pyout",
       "prompt_number": 9,
       "text": [
        "pandas.stats.ols.OLS"
       ]
      }
     ],
     "prompt_number": 9
    },
    {
     "cell_type": "code",
     "collapsed": false,
     "input": [
      "model.help"
     ],
     "language": "python",
     "metadata": {},
     "outputs": [
      {
       "ename": "AttributeError",
       "evalue": "'OLS' object has no attribute 'help'",
       "output_type": "pyerr",
       "traceback": [
        "\u001b[0;31m---------------------------------------------------------------------------\u001b[0m\n\u001b[0;31mAttributeError\u001b[0m                            Traceback (most recent call last)",
        "\u001b[0;32m<ipython-input-10-30916ccf0d58>\u001b[0m in \u001b[0;36m<module>\u001b[0;34m()\u001b[0m\n\u001b[0;32m----> 1\u001b[0;31m \u001b[0mmodel\u001b[0m\u001b[0;34m.\u001b[0m\u001b[0mhelp\u001b[0m\u001b[0;34m\u001b[0m\u001b[0m\n\u001b[0m",
        "\u001b[0;31mAttributeError\u001b[0m: 'OLS' object has no attribute 'help'"
       ]
      }
     ],
     "prompt_number": 10
    },
    {
     "cell_type": "code",
     "collapsed": false,
     "input": [
      "model.summary"
     ],
     "language": "python",
     "metadata": {},
     "outputs": [
      {
       "metadata": {},
       "output_type": "pyout",
       "prompt_number": 12,
       "text": [
        "'\\n-------------------------Summary of Regression Analysis-------------------------\\n\\nFormula: Y ~ <A> + <B> + <C> + <intercept>\\n\\nNumber of Observations:         104\\nNumber of Degrees of Freedom:   4\\n\\nR-squared:         0.4275\\nAdj R-squared:     0.4103\\n\\nRmse:          359659.9429\\n\\nF-stat (3, 100):    24.8884, p-value:     0.0000\\n\\nDegrees of Freedom: model 3, resid 100\\n\\n-----------------------Summary of Estimated Coefficients------------------------\\n      Variable       Coef    Std Err     t-stat    p-value    CI 2.5%   CI 97.5%\\n--------------------------------------------------------------------------------\\n             A     0.0601     0.0215       2.79     0.0063     0.0179     0.1023\\n             B    -0.0677     0.0250      -2.71     0.0079    -0.1168    -0.0187\\n             C     0.1477     0.0357       4.14     0.0001     0.0778     0.2176\\n     intercept 214477.0189 43334.6676       4.95     0.0000 129541.0705 299412.9673\\n---------------------------------End of Summary---------------------------------\\n'"
       ]
      }
     ],
     "prompt_number": 12
    },
    {
     "cell_type": "code",
     "collapsed": false,
     "input": [
      "type(model.summary)"
     ],
     "language": "python",
     "metadata": {},
     "outputs": [
      {
       "metadata": {},
       "output_type": "pyout",
       "prompt_number": 13,
       "text": [
        "str"
       ]
      }
     ],
     "prompt_number": 13
    },
    {
     "cell_type": "code",
     "collapsed": false,
     "input": [
      "type(model.beta)"
     ],
     "language": "python",
     "metadata": {},
     "outputs": [
      {
       "metadata": {},
       "output_type": "pyout",
       "prompt_number": 18,
       "text": [
        "pandas.core.series.Series"
       ]
      }
     ],
     "prompt_number": 18
    },
    {
     "cell_type": "code",
     "collapsed": false,
     "input": [
      "import StringIO as sio\n",
      "\n",
      "output=sio.StringIO()\n",
      "output.write(model.summary)\n",
      "contents=output.getvalue()"
     ],
     "language": "python",
     "metadata": {},
     "outputs": []
    }
   ],
   "metadata": {}
  }
 ]
}